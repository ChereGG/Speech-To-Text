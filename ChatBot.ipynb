{
  "nbformat": 4,
  "nbformat_minor": 0,
  "metadata": {
    "colab": {
      "name": "ChatBot.ipynb",
      "provenance": [],
      "collapsed_sections": []
    },
    "kernelspec": {
      "name": "python3",
      "display_name": "Python 3"
    },
    "language_info": {
      "name": "python"
    }
  },
  "cells": [
    {
      "cell_type": "code",
      "metadata": {
        "colab": {
          "base_uri": "https://localhost:8080/"
        },
        "id": "xaoLl1GaFR6I",
        "outputId": "0de6c837-d40d-451b-e873-7b95381e3693"
      },
      "source": [
        "from google.colab import drive\n",
        "drive.mount('/content/gdrive')"
      ],
      "execution_count": 1,
      "outputs": [
        {
          "output_type": "stream",
          "text": [
            "Mounted at /content/gdrive\n"
          ],
          "name": "stdout"
        }
      ]
    },
    {
      "cell_type": "code",
      "metadata": {
        "id": "ccSfmhekFTxE"
      },
      "source": [
        "import tensorflow as tf\n",
        "from tensorflow.keras.models import Model, Sequential\n",
        "from tensorflow.keras.layers import LSTM, Input, Dense, Bidirectional, Conv2D, Flatten, Dropout, MaxPooling2D, Lambda, Reshape, concatenate, TimeDistributed\n",
        "from tensorflow.compat.v1.keras.layers import CuDNNLSTM\n",
        "from tensorflow.keras.layers.experimental.preprocessing import Rescaling\n",
        "from tensorflow.keras.preprocessing.text import Tokenizer \n",
        "from tensorflow.keras.preprocessing.sequence import pad_sequences\n",
        "from tensorflow.keras.utils import to_categorical\n",
        "\n",
        "import os\n",
        "from PIL import Image\n",
        "from collections import OrderedDict\n",
        "import numpy as np"
      ],
      "execution_count": 2,
      "outputs": []
    },
    {
      "cell_type": "code",
      "metadata": {
        "id": "NOlrJQghfXnm"
      },
      "source": [
        "def getImagesTensors(imgFolder):\n",
        "    i=0\n",
        "    imgDict=dict()\n",
        "    files=os.listdir(imgFolder)\n",
        "    for file in files:\n",
        "        if i > 99:\n",
        "            break\n",
        "        image = tf.io.read_file(imgFolder+\"/\"+file)\n",
        "        image = tf.io.decode_jpeg(image, channels=3)\n",
        "        image = tf.image.resize(image, (50,50))\n",
        "        image = tf.cast(image, tf.int32)\n",
        "        imgDict[file]=image\n",
        "        i+=1\n",
        "    return imgDict"
      ],
      "execution_count": 3,
      "outputs": []
    },
    {
      "cell_type": "code",
      "metadata": {
        "id": "uTCyc4I-ucw4"
      },
      "source": [
        "def getFinalInputs(d1,d2):\n",
        "  rez=[]\n",
        "  for key,val in d1.items():\n",
        "      rez.append([val,d2[key.split(\".\")[0]+\".mp3\"]])\n",
        "  return rez"
      ],
      "execution_count": 4,
      "outputs": []
    },
    {
      "cell_type": "code",
      "metadata": {
        "id": "VqxqX4ZMhI29",
        "colab": {
          "base_uri": "https://localhost:8080/"
        },
        "outputId": "5af883dc-1eae-490a-a326-97b153aff4b5"
      },
      "source": [
        "trainImagesDictionaryTensors=getImagesTensors('gdrive/MyDrive/spectrograms/train')\n",
        "testImagesDictionaryTensors=getImagesTensors('gdrive/MyDrive/spectrograms/test')\n",
        "print(trainImagesDictionaryTensors.keys())\n",
        "print(testImagesDictionaryTensors.keys())"
      ],
      "execution_count": 5,
      "outputs": [
        {
          "output_type": "stream",
          "text": [
            "dict_keys(['common_voice_ro_20789264.jpg', 'common_voice_ro_20789259.jpg', 'common_voice_ro_20789199.jpg', 'common_voice_ro_20789240.jpg', 'common_voice_ro_20789304.jpg', 'common_voice_ro_20789255.jpg', 'common_voice_ro_20789228.jpg', 'common_voice_ro_20789252.jpg', 'common_voice_ro_20789185.jpg', 'common_voice_ro_20789262.jpg', 'common_voice_ro_20789261.jpg', 'common_voice_ro_20789263.jpg', 'common_voice_ro_20789257.jpg', 'common_voice_ro_20789195.jpg', 'common_voice_ro_20789320.jpg', 'common_voice_ro_20789310.jpg', 'common_voice_ro_20789182.jpg', 'common_voice_ro_20789317.jpg', 'common_voice_ro_20789314.jpg', 'common_voice_ro_20789235.jpg', 'common_voice_ro_20789226.jpg', 'common_voice_ro_20789196.jpg', 'common_voice_ro_20789302.jpg', 'common_voice_ro_20789200.jpg', 'common_voice_ro_20789335.jpg', 'common_voice_ro_20789300.jpg', 'common_voice_ro_20789177.jpg', 'common_voice_ro_20789272.jpg', 'common_voice_ro_20789281.jpg', 'common_voice_ro_20789258.jpg', 'common_voice_ro_20789319.jpg', 'common_voice_ro_20789374.jpg', 'common_voice_ro_20789400.jpg', 'common_voice_ro_20789350.jpg', 'common_voice_ro_20789423.jpg', 'common_voice_ro_20789349.jpg', 'common_voice_ro_20789431.jpg', 'common_voice_ro_20789466.jpg', 'common_voice_ro_20789424.jpg', 'common_voice_ro_20789313.jpg', 'common_voice_ro_20789426.jpg', 'common_voice_ro_20789440.jpg', 'common_voice_ro_20789453.jpg', 'common_voice_ro_20789465.jpg', 'common_voice_ro_20789394.jpg', 'common_voice_ro_20789430.jpg', 'common_voice_ro_20789380.jpg', 'common_voice_ro_20789392.jpg', 'common_voice_ro_20789427.jpg', 'common_voice_ro_20789369.jpg', 'common_voice_ro_20789455.jpg', 'common_voice_ro_20789371.jpg', 'common_voice_ro_20789401.jpg', 'common_voice_ro_20789393.jpg', 'common_voice_ro_20789348.jpg', 'common_voice_ro_20789439.jpg', 'common_voice_ro_20789370.jpg', 'common_voice_ro_20789433.jpg', 'common_voice_ro_20789345.jpg', 'common_voice_ro_20789354.jpg', 'common_voice_ro_20789347.jpg', 'common_voice_ro_20789346.jpg', 'common_voice_ro_20789428.jpg', 'common_voice_ro_20789409.jpg', 'common_voice_ro_20789408.jpg', 'common_voice_ro_20789441.jpg', 'common_voice_ro_20789411.jpg', 'common_voice_ro_20789337.jpg', 'common_voice_ro_20789373.jpg', 'common_voice_ro_20789338.jpg', 'common_voice_ro_20789473.jpg', 'common_voice_ro_20789462.jpg', 'common_voice_ro_20789454.jpg', 'common_voice_ro_20789425.jpg', 'common_voice_ro_20789398.jpg', 'common_voice_ro_20789331.jpg', 'common_voice_ro_20789316.jpg', 'common_voice_ro_20789332.jpg', 'common_voice_ro_20789396.jpg', 'common_voice_ro_20789395.jpg', 'common_voice_ro_20789472.jpg', 'common_voice_ro_20789474.jpg', 'common_voice_ro_20789353.jpg', 'common_voice_ro_20789399.jpg', 'common_voice_ro_20789397.jpg', 'common_voice_ro_20789352.jpg', 'common_voice_ro_20789351.jpg', 'common_voice_ro_20789452.jpg', 'common_voice_ro_20789464.jpg', 'common_voice_ro_20789422.jpg', 'common_voice_ro_20789437.jpg', 'common_voice_ro_20789378.jpg', 'common_voice_ro_20789456.jpg', 'common_voice_ro_20789407.jpg', 'common_voice_ro_20789367.jpg', 'common_voice_ro_20789410.jpg', 'common_voice_ro_20789336.jpg', 'common_voice_ro_20789376.jpg', 'common_voice_ro_20789368.jpg', 'common_voice_ro_20789334.jpg'])\n",
            "dict_keys(['common_voice_ro_22430147.jpg', 'common_voice_ro_22430172.jpg', 'common_voice_ro_22430251.jpg', 'common_voice_ro_22430193.jpg', 'common_voice_ro_22430249.jpg', 'common_voice_ro_22430352.jpg', 'common_voice_ro_22430355.jpg', 'common_voice_ro_22456918.jpg', 'common_voice_ro_22456926.jpg', 'common_voice_ro_22456909.jpg', 'common_voice_ro_22457137.jpg', 'common_voice_ro_21398551.jpg', 'common_voice_ro_21398529.jpg', 'common_voice_ro_21398532.jpg', 'common_voice_ro_21398531.jpg', 'common_voice_ro_21398553.jpg', 'common_voice_ro_21398549.jpg', 'common_voice_ro_21398552.jpg', 'common_voice_ro_21398618.jpg', 'common_voice_ro_21398550.jpg', 'common_voice_ro_21398587.jpg', 'common_voice_ro_21398616.jpg', 'common_voice_ro_21398615.jpg', 'common_voice_ro_21398578.jpg', 'common_voice_ro_21398600.jpg', 'common_voice_ro_21398586.jpg', 'common_voice_ro_21398603.jpg', 'common_voice_ro_21398605.jpg', 'common_voice_ro_21398604.jpg', 'common_voice_ro_21398576.jpg', 'common_voice_ro_21398593.jpg', 'common_voice_ro_21398574.jpg', 'common_voice_ro_21398602.jpg', 'common_voice_ro_21398591.jpg', 'common_voice_ro_21398614.jpg', 'common_voice_ro_21405181.jpg', 'common_voice_ro_21405222.jpg', 'common_voice_ro_21405196.jpg', 'common_voice_ro_21405238.jpg', 'common_voice_ro_21405220.jpg', 'common_voice_ro_21405194.jpg', 'common_voice_ro_21405179.jpg', 'common_voice_ro_21405180.jpg', 'common_voice_ro_21405160.jpg', 'common_voice_ro_21405219.jpg', 'common_voice_ro_21405205.jpg', 'common_voice_ro_21405161.jpg', 'common_voice_ro_21405218.jpg', 'common_voice_ro_21405242.jpg', 'common_voice_ro_21405204.jpg', 'common_voice_ro_21405239.jpg', 'common_voice_ro_21405203.jpg', 'common_voice_ro_21405241.jpg', 'common_voice_ro_21405197.jpg', 'common_voice_ro_21405159.jpg', 'common_voice_ro_21405193.jpg', 'common_voice_ro_21405182.jpg', 'common_voice_ro_21405221.jpg', 'common_voice_ro_21422748.jpg', 'common_voice_ro_21422732.jpg', 'common_voice_ro_21422733.jpg', 'common_voice_ro_21422731.jpg', 'common_voice_ro_21422770.jpg', 'common_voice_ro_21422747.jpg', 'common_voice_ro_21422734.jpg', 'common_voice_ro_21422745.jpg', 'common_voice_ro_21422749.jpg', 'common_voice_ro_21422746.jpg', 'common_voice_ro_21422730.jpg', 'common_voice_ro_21422835.jpg', 'common_voice_ro_21422814.jpg', 'common_voice_ro_21422784.jpg', 'common_voice_ro_21422838.jpg', 'common_voice_ro_21422782.jpg', 'common_voice_ro_21422836.jpg', 'common_voice_ro_21422810.jpg', 'common_voice_ro_21422772.jpg', 'common_voice_ro_21422811.jpg', 'common_voice_ro_21422781.jpg', 'common_voice_ro_21422812.jpg', 'common_voice_ro_21422813.jpg', 'common_voice_ro_21422773.jpg', 'common_voice_ro_21422839.jpg', 'common_voice_ro_21422774.jpg', 'common_voice_ro_21422837.jpg', 'common_voice_ro_21439440.jpg', 'common_voice_ro_21439410.jpg', 'common_voice_ro_21439423.jpg', 'common_voice_ro_21439439.jpg', 'common_voice_ro_21439450.jpg', 'common_voice_ro_21439441.jpg', 'common_voice_ro_21439448.jpg', 'common_voice_ro_21439438.jpg', 'common_voice_ro_21439424.jpg', 'common_voice_ro_21439449.jpg', 'common_voice_ro_21439407.jpg', 'common_voice_ro_21439418.jpg', 'common_voice_ro_21439461.jpg', 'common_voice_ro_21439451.jpg', 'common_voice_ro_21439447.jpg'])\n"
          ],
          "name": "stdout"
        }
      ]
    },
    {
      "cell_type": "code",
      "metadata": {
        "id": "B5WItw_PP8DO"
      },
      "source": [
        "def getSentences(filePath,trainImagesDictionaryTensors):\n",
        "    data = dict()\n",
        "    with open(filePath,'r',encoding='utf8') as file:\n",
        "        for line in file:\n",
        "            splittedLine = line.split(\"\\t\")\n",
        "            mp3FileName = splittedLine[1]\n",
        "            if mp3FileName.split(\".\")[0]+\".jpg\" in trainImagesDictionaryTensors:\n",
        "                sentence = splittedLine[2].split(\" \")\n",
        "                data[mp3FileName]=sentence\n",
        "    return data"
      ],
      "execution_count": 6,
      "outputs": []
    },
    {
      "cell_type": "code",
      "metadata": {
        "id": "gwLHUeSnRyso"
      },
      "source": [
        "trainSentencesDictionary = getSentences('gdrive/MyDrive/cv-corpus-6.1-2020-12-11/ro/train.tsv',trainImagesDictionaryTensors)"
      ],
      "execution_count": 7,
      "outputs": []
    },
    {
      "cell_type": "code",
      "metadata": {
        "id": "iCL9CylISCI_"
      },
      "source": [
        "trainInputList=getFinalInputs(trainImagesDictionaryTensors,trainSentencesDictionary)"
      ],
      "execution_count": 8,
      "outputs": []
    },
    {
      "cell_type": "code",
      "metadata": {
        "id": "wd6eMDQax5UO"
      },
      "source": [
        "def getInputsOutputs(trainInputList,tokenizer):\n",
        "    dataString = [value[1] for value in trainInputList]\n",
        "    tokenizer.fit_on_texts(dataString)\n",
        "    sequences = tokenizer.texts_to_sequences(dataString)\n",
        "    vocabularySize = len(tokenizer.word_index) + 1\n",
        "    sequences=pad_sequences(sequences, maxlen=vocabularySize)\n",
        "    rez = [[0 for _ in range(vocabularySize)] for _ in range(len(dataString))]\n",
        "    for i in range(len(sequences)):\n",
        "      for j in range(len(sequences[i])):\n",
        "        if sequences[i][j]!=rez[i][j]:\n",
        "            rez[i][sequences[i][j]-1]=1\n",
        "    return rez,vocabularySize"
      ],
      "execution_count": 9,
      "outputs": []
    },
    {
      "cell_type": "code",
      "metadata": {
        "id": "vtPKud7uSJJf"
      },
      "source": [
        "tokenizer = Tokenizer(num_words=2000, lower=True, oov_token=\"<UGACHAKA>\")\n",
        "tokenizedSentences,vocabularySize = getInputsOutputs(trainInputList,tokenizer)\n",
        "imageHeight,imageWidth,channels=50,50,3"
      ],
      "execution_count": 10,
      "outputs": []
    },
    {
      "cell_type": "code",
      "metadata": {
        "colab": {
          "base_uri": "https://localhost:8080/"
        },
        "id": "XNQDIbfEW8B5",
        "outputId": "28dbd783-548b-44a3-c66f-b84ecb3e0b25"
      },
      "source": [
        "# convolutional layers\n",
        "pictureInputs = Input(shape=(imageHeight, imageWidth, channels))\n",
        "pictureInputsRescaled = Rescaling(1. / 255)(pictureInputs)\n",
        "conv2d = Conv2D(64, 3, padding='same', activation='relu')(pictureInputsRescaled)\n",
        "conv2d = Conv2D(64, 3, padding='same', activation='relu')(conv2d)\n",
        "conv2d = Conv2D(64, 3, padding='same', activation='relu')(conv2d)\n",
        "maxPooling = MaxPooling2D()(conv2d)\n",
        "dropout = Dropout(0.2)(maxPooling)\n",
        "conv2d = Conv2D(64, 3, padding='same', activation='relu')(dropout)\n",
        "conv2d = Conv2D(64, 3, padding='same', activation='relu')(conv2d)\n",
        "conv2d = Conv2D(64, 3, padding='same', activation='relu')(conv2d)\n",
        "maxPooling = MaxPooling2D()(conv2d)\n",
        "dropout = Dropout(0.2)(maxPooling)\n",
        "conv2d = Conv2D(64, 3, padding='same', activation='relu')(dropout)\n",
        "conv2d = Conv2D(64, 3, padding='same', activation='relu')(conv2d)\n",
        "conv2d = Conv2D(64, 3, padding='same', activation='relu')(conv2d)\n",
        "maxPooling = MaxPooling2D()(conv2d)\n",
        "convOutput = Dropout(0.2)(maxPooling)\n",
        "\n",
        "#lstm layers\n",
        "bilstm = TimeDistributed(Bidirectional(LSTM(64, return_sequences=True)))(convOutput)\n",
        "bilstm = TimeDistributed(Bidirectional(LSTM(64, return_sequences=True)))(bilstm)\n",
        "bilstm = TimeDistributed(Bidirectional(LSTM(64)))(bilstm)\n",
        "flatten = Flatten()(bilstm)\n",
        "#dense\n",
        "dense = Dense(128, activation='relu')(flatten)\n",
        "dense = Dense(64, activation='relu')(dense)\n",
        "output = Dense(vocabularySize, activation='sigmoid')(dense)\n",
        "\n",
        "#create model\n",
        "model = Model(inputs=pictureInputs,outputs=output)\n",
        "\n",
        "model.summary()\n",
        "\n",
        "model.compile(loss=tf.keras.losses.BinaryCrossentropy(from_logits=True), optimizer='adam', metrics=[tf.keras.metrics.BinaryAccuracy()])"
      ],
      "execution_count": 11,
      "outputs": [
        {
          "output_type": "stream",
          "text": [
            "Model: \"model\"\n",
            "_________________________________________________________________\n",
            "Layer (type)                 Output Shape              Param #   \n",
            "=================================================================\n",
            "input_1 (InputLayer)         [(None, 50, 50, 3)]       0         \n",
            "_________________________________________________________________\n",
            "rescaling (Rescaling)        (None, 50, 50, 3)         0         \n",
            "_________________________________________________________________\n",
            "conv2d (Conv2D)              (None, 50, 50, 64)        1792      \n",
            "_________________________________________________________________\n",
            "conv2d_1 (Conv2D)            (None, 50, 50, 64)        36928     \n",
            "_________________________________________________________________\n",
            "conv2d_2 (Conv2D)            (None, 50, 50, 64)        36928     \n",
            "_________________________________________________________________\n",
            "max_pooling2d (MaxPooling2D) (None, 25, 25, 64)        0         \n",
            "_________________________________________________________________\n",
            "dropout (Dropout)            (None, 25, 25, 64)        0         \n",
            "_________________________________________________________________\n",
            "conv2d_3 (Conv2D)            (None, 25, 25, 64)        36928     \n",
            "_________________________________________________________________\n",
            "conv2d_4 (Conv2D)            (None, 25, 25, 64)        36928     \n",
            "_________________________________________________________________\n",
            "conv2d_5 (Conv2D)            (None, 25, 25, 64)        36928     \n",
            "_________________________________________________________________\n",
            "max_pooling2d_1 (MaxPooling2 (None, 12, 12, 64)        0         \n",
            "_________________________________________________________________\n",
            "dropout_1 (Dropout)          (None, 12, 12, 64)        0         \n",
            "_________________________________________________________________\n",
            "conv2d_6 (Conv2D)            (None, 12, 12, 64)        36928     \n",
            "_________________________________________________________________\n",
            "conv2d_7 (Conv2D)            (None, 12, 12, 64)        36928     \n",
            "_________________________________________________________________\n",
            "conv2d_8 (Conv2D)            (None, 12, 12, 64)        36928     \n",
            "_________________________________________________________________\n",
            "max_pooling2d_2 (MaxPooling2 (None, 6, 6, 64)          0         \n",
            "_________________________________________________________________\n",
            "dropout_2 (Dropout)          (None, 6, 6, 64)          0         \n",
            "_________________________________________________________________\n",
            "time_distributed (TimeDistri (None, 6, 6, 128)         66048     \n",
            "_________________________________________________________________\n",
            "time_distributed_1 (TimeDist (None, 6, 6, 128)         98816     \n",
            "_________________________________________________________________\n",
            "time_distributed_2 (TimeDist (None, 6, 128)            98816     \n",
            "_________________________________________________________________\n",
            "flatten (Flatten)            (None, 768)               0         \n",
            "_________________________________________________________________\n",
            "dense (Dense)                (None, 128)               98432     \n",
            "_________________________________________________________________\n",
            "dense_1 (Dense)              (None, 64)                8256      \n",
            "_________________________________________________________________\n",
            "dense_2 (Dense)              (None, 425)               27625     \n",
            "=================================================================\n",
            "Total params: 695,209\n",
            "Trainable params: 695,209\n",
            "Non-trainable params: 0\n",
            "_________________________________________________________________\n"
          ],
          "name": "stdout"
        }
      ]
    },
    {
      "cell_type": "code",
      "metadata": {
        "colab": {
          "base_uri": "https://localhost:8080/"
        },
        "id": "7Ed6xgHZPRmz",
        "outputId": "c82f57e0-0055-4a0b-f182-9123dc98d8e4"
      },
      "source": [
        "trainInputs=np.array([value[0] for value in trainInputList])\n",
        "trainOutputs = np.array(tokenizedSentences)\n",
        "model.fit(trainInputs,trainOutputs, epochs=100)"
      ],
      "execution_count": 12,
      "outputs": [
        {
          "output_type": "stream",
          "text": [
            "Epoch 1/100\n",
            "4/4 [==============================] - 15s 1s/step - loss: 0.6923 - binary_accuracy: 0.6047\n",
            "Epoch 2/100\n",
            "4/4 [==============================] - 4s 1s/step - loss: 0.6555 - binary_accuracy: 0.6568\n",
            "Epoch 3/100\n",
            "4/4 [==============================] - 4s 1s/step - loss: 0.5250 - binary_accuracy: 0.7441\n",
            "Epoch 4/100\n",
            "4/4 [==============================] - 4s 1s/step - loss: 0.3675 - binary_accuracy: 0.8356\n",
            "Epoch 5/100\n",
            "4/4 [==============================] - 5s 1s/step - loss: 0.2260 - binary_accuracy: 0.9153\n",
            "Epoch 6/100\n",
            "4/4 [==============================] - 4s 974ms/step - loss: 0.1389 - binary_accuracy: 0.9697\n",
            "Epoch 7/100\n",
            "4/4 [==============================] - 4s 970ms/step - loss: 0.1047 - binary_accuracy: 0.9825\n",
            "Epoch 8/100\n",
            "4/4 [==============================] - 4s 979ms/step - loss: 0.0931 - binary_accuracy: 0.9825\n",
            "Epoch 9/100\n",
            "4/4 [==============================] - 4s 1s/step - loss: 0.0867 - binary_accuracy: 0.9831\n",
            "Epoch 10/100\n",
            "4/4 [==============================] - 4s 980ms/step - loss: 0.0812 - binary_accuracy: 0.9833\n",
            "Epoch 11/100\n",
            "4/4 [==============================] - 4s 992ms/step - loss: 0.0807 - binary_accuracy: 0.9833\n",
            "Epoch 12/100\n",
            "4/4 [==============================] - 4s 979ms/step - loss: 0.0798 - binary_accuracy: 0.9831\n",
            "Epoch 13/100\n",
            "4/4 [==============================] - 4s 988ms/step - loss: 0.0793 - binary_accuracy: 0.9831\n",
            "Epoch 14/100\n",
            "4/4 [==============================] - 4s 988ms/step - loss: 0.0788 - binary_accuracy: 0.9831\n",
            "Epoch 15/100\n",
            "4/4 [==============================] - 4s 981ms/step - loss: 0.0785 - binary_accuracy: 0.9831\n",
            "Epoch 16/100\n",
            "4/4 [==============================] - 4s 989ms/step - loss: 0.0788 - binary_accuracy: 0.9830\n",
            "Epoch 17/100\n",
            "4/4 [==============================] - 4s 979ms/step - loss: 0.0780 - binary_accuracy: 0.9831\n",
            "Epoch 18/100\n",
            "4/4 [==============================] - 4s 985ms/step - loss: 0.0780 - binary_accuracy: 0.9832\n",
            "Epoch 19/100\n",
            "4/4 [==============================] - 4s 994ms/step - loss: 0.0772 - binary_accuracy: 0.9832\n",
            "Epoch 20/100\n",
            "4/4 [==============================] - 4s 986ms/step - loss: 0.0774 - binary_accuracy: 0.9832\n",
            "Epoch 21/100\n",
            "4/4 [==============================] - 4s 982ms/step - loss: 0.0784 - binary_accuracy: 0.9830\n",
            "Epoch 22/100\n",
            "4/4 [==============================] - 4s 982ms/step - loss: 0.0772 - binary_accuracy: 0.9832\n",
            "Epoch 23/100\n",
            "4/4 [==============================] - 4s 992ms/step - loss: 0.0777 - binary_accuracy: 0.9831\n",
            "Epoch 24/100\n",
            "4/4 [==============================] - 4s 973ms/step - loss: 0.0773 - binary_accuracy: 0.9832\n",
            "Epoch 25/100\n",
            "4/4 [==============================] - 4s 988ms/step - loss: 0.0771 - binary_accuracy: 0.9833\n",
            "Epoch 26/100\n",
            "4/4 [==============================] - 4s 983ms/step - loss: 0.0778 - binary_accuracy: 0.9831\n",
            "Epoch 27/100\n",
            "4/4 [==============================] - 4s 979ms/step - loss: 0.0770 - binary_accuracy: 0.9832\n",
            "Epoch 28/100\n",
            "4/4 [==============================] - 4s 983ms/step - loss: 0.0771 - binary_accuracy: 0.9832\n",
            "Epoch 29/100\n",
            "4/4 [==============================] - 4s 982ms/step - loss: 0.0774 - binary_accuracy: 0.9833\n",
            "Epoch 30/100\n",
            "4/4 [==============================] - 4s 988ms/step - loss: 0.0778 - binary_accuracy: 0.9832\n",
            "Epoch 31/100\n",
            "4/4 [==============================] - 4s 982ms/step - loss: 0.0780 - binary_accuracy: 0.9830\n",
            "Epoch 32/100\n",
            "4/4 [==============================] - 4s 984ms/step - loss: 0.0767 - binary_accuracy: 0.9833\n",
            "Epoch 33/100\n",
            "4/4 [==============================] - 4s 989ms/step - loss: 0.0775 - binary_accuracy: 0.9831\n",
            "Epoch 34/100\n",
            "4/4 [==============================] - 4s 973ms/step - loss: 0.0779 - binary_accuracy: 0.9831\n",
            "Epoch 35/100\n",
            "4/4 [==============================] - 5s 1s/step - loss: 0.0775 - binary_accuracy: 0.9832\n",
            "Epoch 36/100\n",
            "4/4 [==============================] - 5s 999ms/step - loss: 0.0786 - binary_accuracy: 0.9830\n",
            "Epoch 37/100\n",
            "4/4 [==============================] - 4s 1s/step - loss: 0.0768 - binary_accuracy: 0.9833\n",
            "Epoch 38/100\n",
            "4/4 [==============================] - 4s 976ms/step - loss: 0.0780 - binary_accuracy: 0.9831\n",
            "Epoch 39/100\n",
            "4/4 [==============================] - 4s 983ms/step - loss: 0.0771 - binary_accuracy: 0.9833\n",
            "Epoch 40/100\n",
            "4/4 [==============================] - 4s 980ms/step - loss: 0.0775 - binary_accuracy: 0.9832\n",
            "Epoch 41/100\n",
            "4/4 [==============================] - 4s 986ms/step - loss: 0.0786 - binary_accuracy: 0.9830\n",
            "Epoch 42/100\n",
            "4/4 [==============================] - 4s 991ms/step - loss: 0.0789 - binary_accuracy: 0.9829\n",
            "Epoch 43/100\n",
            "4/4 [==============================] - 4s 992ms/step - loss: 0.0776 - binary_accuracy: 0.9832\n",
            "Epoch 44/100\n",
            "4/4 [==============================] - 4s 981ms/step - loss: 0.0779 - binary_accuracy: 0.9831\n",
            "Epoch 45/100\n",
            "4/4 [==============================] - 4s 987ms/step - loss: 0.0775 - binary_accuracy: 0.9832\n",
            "Epoch 46/100\n",
            "4/4 [==============================] - 4s 984ms/step - loss: 0.0779 - binary_accuracy: 0.9830\n",
            "Epoch 47/100\n",
            "4/4 [==============================] - 4s 992ms/step - loss: 0.0783 - binary_accuracy: 0.9830\n",
            "Epoch 48/100\n",
            "4/4 [==============================] - 4s 981ms/step - loss: 0.0771 - binary_accuracy: 0.9833\n",
            "Epoch 49/100\n",
            "4/4 [==============================] - 4s 995ms/step - loss: 0.0774 - binary_accuracy: 0.9833\n",
            "Epoch 50/100\n",
            "4/4 [==============================] - 4s 992ms/step - loss: 0.0770 - binary_accuracy: 0.9833\n",
            "Epoch 51/100\n",
            "4/4 [==============================] - 4s 988ms/step - loss: 0.0780 - binary_accuracy: 0.9830\n",
            "Epoch 52/100\n",
            "4/4 [==============================] - 4s 980ms/step - loss: 0.0779 - binary_accuracy: 0.9831\n",
            "Epoch 53/100\n",
            "4/4 [==============================] - 4s 980ms/step - loss: 0.0781 - binary_accuracy: 0.9831\n",
            "Epoch 54/100\n",
            "4/4 [==============================] - 4s 990ms/step - loss: 0.0777 - binary_accuracy: 0.9831\n",
            "Epoch 55/100\n",
            "4/4 [==============================] - 4s 987ms/step - loss: 0.0770 - binary_accuracy: 0.9832\n",
            "Epoch 56/100\n",
            "4/4 [==============================] - 4s 979ms/step - loss: 0.0779 - binary_accuracy: 0.9831\n",
            "Epoch 57/100\n",
            "4/4 [==============================] - 4s 980ms/step - loss: 0.0771 - binary_accuracy: 0.9834\n",
            "Epoch 58/100\n",
            "4/4 [==============================] - 4s 982ms/step - loss: 0.0775 - binary_accuracy: 0.9832\n",
            "Epoch 59/100\n",
            "4/4 [==============================] - 4s 974ms/step - loss: 0.0778 - binary_accuracy: 0.9831\n",
            "Epoch 60/100\n",
            "4/4 [==============================] - 4s 986ms/step - loss: 0.0776 - binary_accuracy: 0.9832\n",
            "Epoch 61/100\n",
            "4/4 [==============================] - 4s 985ms/step - loss: 0.0769 - binary_accuracy: 0.9833\n",
            "Epoch 62/100\n",
            "4/4 [==============================] - 4s 979ms/step - loss: 0.0776 - binary_accuracy: 0.9832\n",
            "Epoch 63/100\n",
            "4/4 [==============================] - 4s 978ms/step - loss: 0.0781 - binary_accuracy: 0.9831\n",
            "Epoch 64/100\n",
            "4/4 [==============================] - 4s 986ms/step - loss: 0.0776 - binary_accuracy: 0.9831\n",
            "Epoch 65/100\n",
            "4/4 [==============================] - 4s 983ms/step - loss: 0.0776 - binary_accuracy: 0.9833\n",
            "Epoch 66/100\n",
            "4/4 [==============================] - 4s 984ms/step - loss: 0.0775 - binary_accuracy: 0.9832\n",
            "Epoch 67/100\n",
            "4/4 [==============================] - 4s 981ms/step - loss: 0.0774 - binary_accuracy: 0.9832\n",
            "Epoch 68/100\n",
            "4/4 [==============================] - 4s 983ms/step - loss: 0.0776 - binary_accuracy: 0.9832\n",
            "Epoch 69/100\n",
            "4/4 [==============================] - 4s 985ms/step - loss: 0.0774 - binary_accuracy: 0.9831\n",
            "Epoch 70/100\n",
            "4/4 [==============================] - 4s 980ms/step - loss: 0.0769 - binary_accuracy: 0.9833\n",
            "Epoch 71/100\n",
            "4/4 [==============================] - 4s 994ms/step - loss: 0.0782 - binary_accuracy: 0.9829\n",
            "Epoch 72/100\n",
            "4/4 [==============================] - 4s 982ms/step - loss: 0.0778 - binary_accuracy: 0.9831\n",
            "Epoch 73/100\n",
            "4/4 [==============================] - 4s 982ms/step - loss: 0.0773 - binary_accuracy: 0.9832\n",
            "Epoch 74/100\n",
            "4/4 [==============================] - 4s 979ms/step - loss: 0.0778 - binary_accuracy: 0.9831\n",
            "Epoch 75/100\n",
            "4/4 [==============================] - 4s 979ms/step - loss: 0.0773 - binary_accuracy: 0.9831\n",
            "Epoch 76/100\n",
            "4/4 [==============================] - 4s 983ms/step - loss: 0.0778 - binary_accuracy: 0.9832\n",
            "Epoch 77/100\n",
            "4/4 [==============================] - 4s 981ms/step - loss: 0.0782 - binary_accuracy: 0.9831\n",
            "Epoch 78/100\n",
            "4/4 [==============================] - 4s 986ms/step - loss: 0.0773 - binary_accuracy: 0.9833\n",
            "Epoch 79/100\n",
            "4/4 [==============================] - 4s 983ms/step - loss: 0.0770 - binary_accuracy: 0.9833\n",
            "Epoch 80/100\n",
            "4/4 [==============================] - 4s 982ms/step - loss: 0.0783 - binary_accuracy: 0.9832\n",
            "Epoch 81/100\n",
            "4/4 [==============================] - 4s 973ms/step - loss: 0.0781 - binary_accuracy: 0.9832\n",
            "Epoch 82/100\n",
            "4/4 [==============================] - 4s 978ms/step - loss: 0.0778 - binary_accuracy: 0.9832\n",
            "Epoch 83/100\n",
            "4/4 [==============================] - 4s 980ms/step - loss: 0.0774 - binary_accuracy: 0.9832\n",
            "Epoch 84/100\n",
            "4/4 [==============================] - 4s 976ms/step - loss: 0.0782 - binary_accuracy: 0.9831\n",
            "Epoch 85/100\n",
            "4/4 [==============================] - 4s 985ms/step - loss: 0.0779 - binary_accuracy: 0.9831\n",
            "Epoch 86/100\n",
            "4/4 [==============================] - 4s 971ms/step - loss: 0.0778 - binary_accuracy: 0.9832\n",
            "Epoch 87/100\n",
            "4/4 [==============================] - 4s 979ms/step - loss: 0.0780 - binary_accuracy: 0.9831\n",
            "Epoch 88/100\n",
            "4/4 [==============================] - 4s 982ms/step - loss: 0.0785 - binary_accuracy: 0.9831\n",
            "Epoch 89/100\n",
            "4/4 [==============================] - 4s 975ms/step - loss: 0.0774 - binary_accuracy: 0.9833\n",
            "Epoch 90/100\n",
            "4/4 [==============================] - 4s 987ms/step - loss: 0.0776 - binary_accuracy: 0.9834\n",
            "Epoch 91/100\n",
            "4/4 [==============================] - 4s 981ms/step - loss: 0.0780 - binary_accuracy: 0.9831\n",
            "Epoch 92/100\n",
            "4/4 [==============================] - 4s 993ms/step - loss: 0.0779 - binary_accuracy: 0.9831\n",
            "Epoch 93/100\n",
            "4/4 [==============================] - 4s 987ms/step - loss: 0.0782 - binary_accuracy: 0.9831\n",
            "Epoch 94/100\n",
            "4/4 [==============================] - 4s 973ms/step - loss: 0.0777 - binary_accuracy: 0.9832\n",
            "Epoch 95/100\n",
            "4/4 [==============================] - 4s 976ms/step - loss: 0.0779 - binary_accuracy: 0.9832\n",
            "Epoch 96/100\n",
            "4/4 [==============================] - 4s 982ms/step - loss: 0.0781 - binary_accuracy: 0.9831\n",
            "Epoch 97/100\n",
            "4/4 [==============================] - 4s 987ms/step - loss: 0.0773 - binary_accuracy: 0.9832\n",
            "Epoch 98/100\n",
            "4/4 [==============================] - 4s 985ms/step - loss: 0.0769 - binary_accuracy: 0.9833\n",
            "Epoch 99/100\n",
            "4/4 [==============================] - 4s 985ms/step - loss: 0.0771 - binary_accuracy: 0.9833\n",
            "Epoch 100/100\n",
            "4/4 [==============================] - 4s 971ms/step - loss: 0.0784 - binary_accuracy: 0.9831\n"
          ],
          "name": "stdout"
        },
        {
          "output_type": "execute_result",
          "data": {
            "text/plain": [
              "<tensorflow.python.keras.callbacks.History at 0x7f83e810fa90>"
            ]
          },
          "metadata": {
            "tags": []
          },
          "execution_count": 12
        }
      ]
    },
    {
      "cell_type": "code",
      "metadata": {
        "id": "6qfK6WIB7YTh"
      },
      "source": [
        "def transformProbabilities(prediction):\n",
        "    return [1 if value > 0.1 else 0 for value in prediction[0]]"
      ],
      "execution_count": 13,
      "outputs": []
    },
    {
      "cell_type": "code",
      "metadata": {
        "id": "c2ZuGn0sabRK"
      },
      "source": [
        "prediction=model.predict(np.array([testImagesDictionaryTensors['common_voice_ro_21398602.jpg']]))\n",
        "prediction=transformProbabilities(prediction)"
      ],
      "execution_count": 14,
      "outputs": []
    },
    {
      "cell_type": "code",
      "metadata": {
        "id": "UoOyvuct8hqp"
      },
      "source": [
        "def getSentencesFromPrediction(indexesList,tokenizer):\n",
        "    sentence=\"\"\n",
        "    for integer in indexesList:\n",
        "      for word, index in tokenizer.word_index.items():\n",
        "          if index == integer:\n",
        "              sentence+= word + \" \"\n",
        "              break\n",
        "    return sentence"
      ],
      "execution_count": 15,
      "outputs": []
    },
    {
      "cell_type": "code",
      "metadata": {
        "colab": {
          "base_uri": "https://localhost:8080/"
        },
        "id": "1IIC_XOzdM2k",
        "outputId": "b2fd0611-703e-489d-e89e-3a7b76353014"
      },
      "source": [
        "indexList = [idx for idx,val in enumerate(prediction) if val == 1]\n",
        "print(getSentencesFromPrediction(indexList,tokenizer))"
      ],
      "execution_count": 16,
      "outputs": [
        {
          "output_type": "stream",
          "text": [
            "<UGACHAKA> de este să acest nu în pe \n"
          ],
          "name": "stdout"
        }
      ]
    },
    {
      "cell_type": "code",
      "metadata": {
        "id": "TxnvRPnltn0o"
      },
      "source": [
        ""
      ],
      "execution_count": 16,
      "outputs": []
    }
  ]
}